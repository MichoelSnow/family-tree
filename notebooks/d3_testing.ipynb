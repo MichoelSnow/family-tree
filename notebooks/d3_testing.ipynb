{
 "cells": [
  {
   "cell_type": "code",
   "execution_count": 2,
   "id": "39435af3",
   "metadata": {
    "ExecuteTime": {
     "end_time": "2025-04-06T04:14:21.254492Z",
     "start_time": "2025-04-06T04:14:21.221322Z"
    }
   },
   "outputs": [],
   "source": [
    "%load_ext autoreload\n",
    "%autoreload 2"
   ]
  },
  {
   "cell_type": "markdown",
   "id": "1ffe1d38",
   "metadata": {},
   "source": [
    "# Imports"
   ]
  },
  {
   "cell_type": "code",
   "execution_count": 10,
   "id": "66d7ec38",
   "metadata": {
    "ExecuteTime": {
     "end_time": "2025-04-06T04:18:19.067754Z",
     "start_time": "2025-04-06T04:18:19.041491Z"
    }
   },
   "outputs": [],
   "source": [
    "import json\n",
    "from IPython.display import Javascript"
   ]
  },
  {
   "cell_type": "markdown",
   "id": "9ed12561",
   "metadata": {},
   "source": [
    "# Run javascript"
   ]
  },
  {
   "cell_type": "code",
   "execution_count": 3,
   "id": "1701b7fb",
   "metadata": {
    "ExecuteTime": {
     "end_time": "2025-04-06T04:14:22.489244Z",
     "start_time": "2025-04-06T04:14:22.463094Z"
    }
   },
   "outputs": [
    {
     "data": {
      "application/javascript": [
       "require.config({ \n",
       "     paths: { \n",
       "     d3: 'https://d3js.org/d3.v5.min'\n",
       "}});\n"
      ],
      "text/plain": [
       "<IPython.core.display.Javascript object>"
      ]
     },
     "metadata": {},
     "output_type": "display_data"
    }
   ],
   "source": [
    "%%javascript\n",
    "require.config({ \n",
    "     paths: { \n",
    "     d3: 'https://d3js.org/d3.v5.min'\n",
    "}});"
   ]
  },
  {
   "cell_type": "code",
   "execution_count": 7,
   "id": "3bb775b2",
   "metadata": {
    "ExecuteTime": {
     "end_time": "2025-04-06T04:17:38.752902Z",
     "start_time": "2025-04-06T04:17:38.739478Z"
    }
   },
   "outputs": [
    {
     "ename": "SyntaxError",
     "evalue": "invalid syntax (1583207439.py, line 1)",
     "output_type": "error",
     "traceback": [
      "\u001b[0;36m  Cell \u001b[0;32mIn[7], line 1\u001b[0;36m\u001b[0m\n\u001b[0;31m    // %%javascript\u001b[0m\n\u001b[0m    ^\u001b[0m\n\u001b[0;31mSyntaxError\u001b[0m\u001b[0;31m:\u001b[0m invalid syntax\n"
     ]
    }
   ],
   "source": [
    "%%javascript\n",
    "require(['d3'], function(d3) {   \n",
    "     console.log(d3);\n",
    "});"
   ]
  },
  {
   "cell_type": "code",
   "execution_count": 8,
   "id": "fd9a7899",
   "metadata": {
    "ExecuteTime": {
     "end_time": "2025-04-06T04:17:45.712467Z",
     "start_time": "2025-04-06T04:17:45.695397Z"
    }
   },
   "outputs": [],
   "source": [
    "data = [50, 100]"
   ]
  },
  {
   "cell_type": "code",
   "execution_count": 5,
   "id": "47cf8a24",
   "metadata": {
    "ExecuteTime": {
     "end_time": "2025-04-06T04:16:48.967233Z",
     "start_time": "2025-04-06T04:16:48.922216Z"
    }
   },
   "outputs": [
    {
     "data": {
      "application/javascript": [
       " (function(element) {\n",
       "     require(['d3'], function(d3) {   \n",
       "        d3.select(element.get(0)).append('text').text('hello world');\n",
       "     })\n",
       " })(element);\n"
      ],
      "text/plain": [
       "<IPython.core.display.Javascript object>"
      ]
     },
     "metadata": {},
     "output_type": "display_data"
    }
   ],
   "source": [
    "%%javascript\n",
    " (function(element) {\n",
    "     require(['d3'], function(d3) {   \n",
    "        d3.select(element.get(0)).append('text').text('hello world');\n",
    "     })\n",
    " })(element);"
   ]
  },
  {
   "cell_type": "code",
   "execution_count": 11,
   "id": "7871be58",
   "metadata": {
    "ExecuteTime": {
     "end_time": "2025-04-06T04:18:21.961898Z",
     "start_time": "2025-04-06T04:18:21.935276Z"
    }
   },
   "outputs": [
    {
     "data": {
      "application/javascript": [
       "\n",
       "console.log([50, 100]);\n"
      ],
      "text/plain": [
       "<IPython.core.display.Javascript object>"
      ]
     },
     "execution_count": 11,
     "metadata": {},
     "output_type": "execute_result"
    }
   ],
   "source": [
    "Javascript(\"\"\"\n",
    "console.log(%s);\n",
    "\"\"\" % json.dumps(data))"
   ]
  },
  {
   "cell_type": "code",
   "execution_count": null,
   "id": "4831c115",
   "metadata": {},
   "outputs": [],
   "source": []
  }
 ],
 "metadata": {
  "kernelspec": {
   "display_name": "Python 3 (ipykernel)",
   "language": "python",
   "name": "python3"
  },
  "language_info": {
   "codemirror_mode": {
    "name": "ipython",
    "version": 3
   },
   "file_extension": ".py",
   "mimetype": "text/x-python",
   "name": "python",
   "nbconvert_exporter": "python",
   "pygments_lexer": "ipython3",
   "version": "3.10.12"
  }
 },
 "nbformat": 4,
 "nbformat_minor": 5
}
